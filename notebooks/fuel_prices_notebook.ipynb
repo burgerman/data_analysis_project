{
 "cells": [
  {
   "cell_type": "code",
   "execution_count": 1,
   "id": "initial_id",
   "metadata": {
    "collapsed": true,
    "ExecuteTime": {
     "end_time": "2024-03-29T05:06:37.640590Z",
     "start_time": "2024-03-29T05:06:35.364555Z"
    }
   },
   "outputs": [
    {
     "name": "stdout",
     "output_type": "stream",
     "text": [
      "['Date', 'unleaded petrol price in GBP/litre', 'diesel price in GBP/litre']\n"
     ]
    }
   ],
   "source": [
    "import pandas as pd\n",
    "\n",
    "# Load price data from CSV file\n",
    "df = pd.read_csv('price_data.csv', encoding='utf-8')\n",
    "print(df.columns.tolist())\n",
    "# Convert 'Date' column to datetime format\n",
    "df['Date'] = pd.to_datetime(df['Date'])\n",
    "\n",
    "# Generate a date range from \"2024-01-01\" to \"2024-03-19\"\n",
    "date_range = pd.date_range(start=\"2024-01-01\", end=\"2024-03-22\", freq=\"D\")\n",
    "\n",
    "# Fill missing dates with the last available prices\n",
    "df_filled = df.set_index('Date').reindex(date_range, method='ffill').reset_index()\n",
    "\n",
    "# Rename the columns\n",
    "df_filled.columns = ['Date', 'petrol price in GBP/litre', 'diesel price in GBP/litre']\n",
    "\n",
    "df_filled['Date'] = df_filled['Date'].dt.strftime('%Y-%m-%d')\n",
    "\n",
    "# Save the DataFrame to a CSV file\n",
    "df_filled.to_csv('complete_fuel_prices.csv', index=False, encoding='utf-8', sep='|')"
   ]
  },
  {
   "cell_type": "code",
   "outputs": [],
   "source": [
    "food_price_data = pd.read_csv('complete_fuel_prices.csv', sep='|', encoding='utf-8')\n",
    "economic_data = pd.read_csv('economic_indicators_dataset.csv', sep=',', encoding='utf-8')\n",
    "food_price_data['Date'] = pd.to_datetime(food_price_data['Date'])\n",
    "food_price_data['year'] = food_price_data['Date'].dt.year\n",
    "food_price_data['month'] = food_price_data['Date'].dt.strftime('%b')\n",
    "merged_data = pd.merge(food_price_data, economic_data, on=['year', 'month'], how='inner')\n",
    "merged_data.drop(['year', 'month'], axis=1, inplace=True)\n",
    "merged_data.to_csv('merged_economic_indicators.csv', index=False, encoding='utf-8', sep='|')"
   ],
   "metadata": {
    "collapsed": false,
    "ExecuteTime": {
     "end_time": "2024-03-29T05:06:40.328723Z",
     "start_time": "2024-03-29T05:06:40.312542Z"
    }
   },
   "id": "6aa0e1761565bf96",
   "execution_count": 2
  },
  {
   "cell_type": "code",
   "outputs": [
    {
     "data": {
      "text/plain": "  supermarket  prices_(£)  prices_unit_(£)  unit  \\\n0       Tesco        0.40              0.0  unit   \n1       Tesco        0.50              0.0  unit   \n2       Tesco        0.60              0.0  unit   \n3       Tesco        0.75              0.0  unit   \n4       Tesco        0.98              0.0  unit   \n\n                             names        date         category  own_brand  \\\n0         Swan Vesta Matches 1 Box  2024-02-28        household      False   \n1            Tesco 200 Cotton Buds  2024-02-28  health_products       True   \n2             Tesco Nappy Bags 300  2024-02-28    baby_products       True   \n3  Fred & Flo Cotton Buds 300 Pack  2024-02-28    baby_products       True   \n4  Stockwell & Co. Sweeteners 850S  2024-02-28           drinks       True   \n\n   petrol price in GBP/litre  diesel price in GBP/litre  producer price  \\\n0                     1.4128                     1.5028           136.7   \n1                     1.4128                     1.5028           136.7   \n2                     1.4128                     1.5028           136.7   \n3                     1.4128                     1.5028           136.7   \n4                     1.4128                     1.5028           136.7   \n\n   consumer price food inflation  \n0           132.3             5%  \n1           132.3             5%  \n2           132.3             5%  \n3           132.3             5%  \n4           132.3             5%  ",
      "text/html": "<div>\n<style scoped>\n    .dataframe tbody tr th:only-of-type {\n        vertical-align: middle;\n    }\n\n    .dataframe tbody tr th {\n        vertical-align: top;\n    }\n\n    .dataframe thead th {\n        text-align: right;\n    }\n</style>\n<table border=\"1\" class=\"dataframe\">\n  <thead>\n    <tr style=\"text-align: right;\">\n      <th></th>\n      <th>supermarket</th>\n      <th>prices_(£)</th>\n      <th>prices_unit_(£)</th>\n      <th>unit</th>\n      <th>names</th>\n      <th>date</th>\n      <th>category</th>\n      <th>own_brand</th>\n      <th>petrol price in GBP/litre</th>\n      <th>diesel price in GBP/litre</th>\n      <th>producer price</th>\n      <th>consumer price</th>\n      <th>food inflation</th>\n    </tr>\n  </thead>\n  <tbody>\n    <tr>\n      <th>0</th>\n      <td>Tesco</td>\n      <td>0.40</td>\n      <td>0.0</td>\n      <td>unit</td>\n      <td>Swan Vesta Matches 1 Box</td>\n      <td>2024-02-28</td>\n      <td>household</td>\n      <td>False</td>\n      <td>1.4128</td>\n      <td>1.5028</td>\n      <td>136.7</td>\n      <td>132.3</td>\n      <td>5%</td>\n    </tr>\n    <tr>\n      <th>1</th>\n      <td>Tesco</td>\n      <td>0.50</td>\n      <td>0.0</td>\n      <td>unit</td>\n      <td>Tesco 200 Cotton Buds</td>\n      <td>2024-02-28</td>\n      <td>health_products</td>\n      <td>True</td>\n      <td>1.4128</td>\n      <td>1.5028</td>\n      <td>136.7</td>\n      <td>132.3</td>\n      <td>5%</td>\n    </tr>\n    <tr>\n      <th>2</th>\n      <td>Tesco</td>\n      <td>0.60</td>\n      <td>0.0</td>\n      <td>unit</td>\n      <td>Tesco Nappy Bags 300</td>\n      <td>2024-02-28</td>\n      <td>baby_products</td>\n      <td>True</td>\n      <td>1.4128</td>\n      <td>1.5028</td>\n      <td>136.7</td>\n      <td>132.3</td>\n      <td>5%</td>\n    </tr>\n    <tr>\n      <th>3</th>\n      <td>Tesco</td>\n      <td>0.75</td>\n      <td>0.0</td>\n      <td>unit</td>\n      <td>Fred &amp; Flo Cotton Buds 300 Pack</td>\n      <td>2024-02-28</td>\n      <td>baby_products</td>\n      <td>True</td>\n      <td>1.4128</td>\n      <td>1.5028</td>\n      <td>136.7</td>\n      <td>132.3</td>\n      <td>5%</td>\n    </tr>\n    <tr>\n      <th>4</th>\n      <td>Tesco</td>\n      <td>0.98</td>\n      <td>0.0</td>\n      <td>unit</td>\n      <td>Stockwell &amp; Co. Sweeteners 850S</td>\n      <td>2024-02-28</td>\n      <td>drinks</td>\n      <td>True</td>\n      <td>1.4128</td>\n      <td>1.5028</td>\n      <td>136.7</td>\n      <td>132.3</td>\n      <td>5%</td>\n    </tr>\n  </tbody>\n</table>\n</div>"
     },
     "execution_count": 5,
     "metadata": {},
     "output_type": "execute_result"
    }
   ],
   "source": [
    "historical_food_price_data = pd.read_csv('/Users/wilfried/PycharmProjects/group_project/datasets/20240228_tesco_data.csv', sep='|', encoding='utf-8')\n",
    "historical_food_price_data['date'] = pd.to_datetime(historical_food_price_data['date'], format='%Y%m%d')\n",
    "historical_food_price_data['date'] = historical_food_price_data['date'].dt.strftime('%Y-%m-%d')\n",
    "economic_data = pd.read_csv('merged_economic_indicators.csv', sep='|', encoding='utf-8')\n",
    "renamed_economic_data = economic_data.rename(columns={'Date': 'date'}, inplace=False)\n",
    "merged_price_data = pd.merge(historical_food_price_data, renamed_economic_data, on=['date'], how='inner')\n",
    "merged_price_data.head()"
   ],
   "metadata": {
    "collapsed": false,
    "ExecuteTime": {
     "end_time": "2024-03-29T05:12:31.404781Z",
     "start_time": "2024-03-29T05:12:30.195997Z"
    }
   },
   "id": "ad5596a2245b8101",
   "execution_count": 5
  },
  {
   "cell_type": "code",
   "outputs": [],
   "source": [
    "merged_price_data.to_csv('test_data.csv', index=False, encoding='utf-8', sep='|')"
   ],
   "metadata": {
    "collapsed": false,
    "ExecuteTime": {
     "end_time": "2024-03-29T05:13:24.350096Z",
     "start_time": "2024-03-29T05:13:20.584250Z"
    }
   },
   "id": "107b9fbc72767a92",
   "execution_count": 6
  },
  {
   "cell_type": "code",
   "outputs": [
    {
     "name": "stdout",
     "output_type": "stream",
     "text": [
      "['date', 'NASDAQCOM']\n"
     ]
    }
   ],
   "source": [
    "import pandas as pd\n",
    "\n",
    "# Load price data from CSV file\n",
    "df = pd.read_csv('/Users/wilfried/Downloads/NASDAQCOM.csv', encoding='utf-8')\n",
    "print(df.columns.tolist())\n",
    "# Convert 'Date' column to datetime format\n",
    "df['date'] = pd.to_datetime(df['date'])\n",
    "\n",
    "# Generate a date range from \"2024-01-01\" to \"2024-04-01\"\n",
    "date_range = pd.date_range(start=\"2017-01-01\", end=\"2024-04-01\", freq=\"D\")\n",
    "\n",
    "# Fill missing dates with the last available prices\n",
    "df_filled = df.set_index('date').reindex(date_range, method='ffill').reset_index()\n",
    "\n",
    "# Rename the columns\n",
    "df_filled.columns = ['date', 'NASDAQCOM']\n",
    "\n",
    "df_filled['date'] = df_filled['date'].dt.strftime('%Y-%m-%d')\n",
    "\n",
    "# Save the DataFrame to a CSV file\n",
    "df_filled.to_csv('NASDAQCOM.csv', index=False, encoding='utf-8', sep=',')"
   ],
   "metadata": {
    "collapsed": false,
    "ExecuteTime": {
     "end_time": "2024-04-04T21:09:13.642533Z",
     "start_time": "2024-04-04T21:09:13.605928Z"
    }
   },
   "id": "411bf80d06efbbb6",
   "execution_count": 3
  },
  {
   "cell_type": "code",
   "outputs": [],
   "source": [
    "df = pd.read_csv('foreign_exchange_rates.csv', encoding='utf-8')\n",
    "df2 = pd.read_csv('canadian_interest_rates.csv', encoding='utf-8')\n",
    "df3 = pd.read_csv('us_interest_rates.csv', encoding='utf-8')\n",
    "df4 = pd.read_csv('goods_inflation.csv', encoding='utf-8')\n",
    "df5 = pd.read_csv('services_inflation.csv', encoding='utf-8')\n",
    "df6 = pd.read_csv('DJIA.csv', encoding='utf-8')\n",
    "df7 = pd.read_csv('SP500.csv', encoding='utf-8')\n",
    "df8 = pd.read_csv('NASDAQCOM.csv', encoding='utf-8')\n",
    "merged_fx_data = pd.merge(df, df2, on=['date'], how='inner')"
   ],
   "metadata": {
    "collapsed": false,
    "ExecuteTime": {
     "end_time": "2024-04-04T21:12:21.112077Z",
     "start_time": "2024-04-04T21:12:21.071536Z"
    }
   },
   "id": "56127d4c72240006",
   "execution_count": 4
  },
  {
   "cell_type": "code",
   "outputs": [
    {
     "data": {
      "text/plain": "         date  FXAUDCAD  FXCHFCAD  FXCNYCAD  FXEURCAD  FXGBPCAD  FXJPYCAD  \\\n0  2017-01-01    0.9702    1.3064    0.1935    1.3973    1.6459   0.01140   \n1  2017-01-02    0.9702    1.3064    0.1938    1.3973    1.6459   0.01140   \n2  2017-01-03    0.9702    1.3064    0.1930    1.3973    1.6459   0.01140   \n3  2017-01-04    0.9678    1.3005    0.1920    1.3930    1.6377   0.01134   \n4  2017-01-05    0.9708    1.3083    0.1922    1.4008    1.6400   0.01145   \n\n   FXMXNCAD  FXNZDCAD  FXSEKCAD  FXUSDCAD  canada_interest_rate  \\\n0   0.06439    0.9295    0.1465    1.3334                   0.5   \n1   0.06439    0.9295    0.1465    1.3287                   0.5   \n2   0.06439    0.9295    0.1465    1.3435                   0.5   \n3   0.06242    0.9251    0.1460    1.3315                   0.5   \n4   0.06195    0.9285    0.1468    1.3244                   0.5   \n\n   us_interest_rate  goods_inflation  services_inflation      DJIA    SP500  \\\n0              3.75            118.9               140.2  19762.60  2238.83   \n1              3.75            118.9               140.2  19762.60  2238.83   \n2              3.75            118.9               140.2  19881.76  2257.83   \n3              3.75            118.9               140.2  19942.16  2270.75   \n4              3.75            118.9               140.2  19899.29  2269.00   \n\n   NASDAQCOM  \n0    5383.12  \n1    5383.12  \n2    5429.08  \n3    5477.00  \n4    5487.94  ",
      "text/html": "<div>\n<style scoped>\n    .dataframe tbody tr th:only-of-type {\n        vertical-align: middle;\n    }\n\n    .dataframe tbody tr th {\n        vertical-align: top;\n    }\n\n    .dataframe thead th {\n        text-align: right;\n    }\n</style>\n<table border=\"1\" class=\"dataframe\">\n  <thead>\n    <tr style=\"text-align: right;\">\n      <th></th>\n      <th>date</th>\n      <th>FXAUDCAD</th>\n      <th>FXCHFCAD</th>\n      <th>FXCNYCAD</th>\n      <th>FXEURCAD</th>\n      <th>FXGBPCAD</th>\n      <th>FXJPYCAD</th>\n      <th>FXMXNCAD</th>\n      <th>FXNZDCAD</th>\n      <th>FXSEKCAD</th>\n      <th>FXUSDCAD</th>\n      <th>canada_interest_rate</th>\n      <th>us_interest_rate</th>\n      <th>goods_inflation</th>\n      <th>services_inflation</th>\n      <th>DJIA</th>\n      <th>SP500</th>\n      <th>NASDAQCOM</th>\n    </tr>\n  </thead>\n  <tbody>\n    <tr>\n      <th>0</th>\n      <td>2017-01-01</td>\n      <td>0.9702</td>\n      <td>1.3064</td>\n      <td>0.1935</td>\n      <td>1.3973</td>\n      <td>1.6459</td>\n      <td>0.01140</td>\n      <td>0.06439</td>\n      <td>0.9295</td>\n      <td>0.1465</td>\n      <td>1.3334</td>\n      <td>0.5</td>\n      <td>3.75</td>\n      <td>118.9</td>\n      <td>140.2</td>\n      <td>19762.60</td>\n      <td>2238.83</td>\n      <td>5383.12</td>\n    </tr>\n    <tr>\n      <th>1</th>\n      <td>2017-01-02</td>\n      <td>0.9702</td>\n      <td>1.3064</td>\n      <td>0.1938</td>\n      <td>1.3973</td>\n      <td>1.6459</td>\n      <td>0.01140</td>\n      <td>0.06439</td>\n      <td>0.9295</td>\n      <td>0.1465</td>\n      <td>1.3287</td>\n      <td>0.5</td>\n      <td>3.75</td>\n      <td>118.9</td>\n      <td>140.2</td>\n      <td>19762.60</td>\n      <td>2238.83</td>\n      <td>5383.12</td>\n    </tr>\n    <tr>\n      <th>2</th>\n      <td>2017-01-03</td>\n      <td>0.9702</td>\n      <td>1.3064</td>\n      <td>0.1930</td>\n      <td>1.3973</td>\n      <td>1.6459</td>\n      <td>0.01140</td>\n      <td>0.06439</td>\n      <td>0.9295</td>\n      <td>0.1465</td>\n      <td>1.3435</td>\n      <td>0.5</td>\n      <td>3.75</td>\n      <td>118.9</td>\n      <td>140.2</td>\n      <td>19881.76</td>\n      <td>2257.83</td>\n      <td>5429.08</td>\n    </tr>\n    <tr>\n      <th>3</th>\n      <td>2017-01-04</td>\n      <td>0.9678</td>\n      <td>1.3005</td>\n      <td>0.1920</td>\n      <td>1.3930</td>\n      <td>1.6377</td>\n      <td>0.01134</td>\n      <td>0.06242</td>\n      <td>0.9251</td>\n      <td>0.1460</td>\n      <td>1.3315</td>\n      <td>0.5</td>\n      <td>3.75</td>\n      <td>118.9</td>\n      <td>140.2</td>\n      <td>19942.16</td>\n      <td>2270.75</td>\n      <td>5477.00</td>\n    </tr>\n    <tr>\n      <th>4</th>\n      <td>2017-01-05</td>\n      <td>0.9708</td>\n      <td>1.3083</td>\n      <td>0.1922</td>\n      <td>1.4008</td>\n      <td>1.6400</td>\n      <td>0.01145</td>\n      <td>0.06195</td>\n      <td>0.9285</td>\n      <td>0.1468</td>\n      <td>1.3244</td>\n      <td>0.5</td>\n      <td>3.75</td>\n      <td>118.9</td>\n      <td>140.2</td>\n      <td>19899.29</td>\n      <td>2269.00</td>\n      <td>5487.94</td>\n    </tr>\n  </tbody>\n</table>\n</div>"
     },
     "execution_count": 5,
     "metadata": {},
     "output_type": "execute_result"
    }
   ],
   "source": [
    "merged_fx_data2 = pd.merge(merged_fx_data, df3, on=['date'], how='inner')\n",
    "merged_fx_data3 = pd.merge(merged_fx_data2, df4, on=['date'], how='inner')\n",
    "merged_fx_data4 = pd.merge(merged_fx_data3, df5, on=['date'], how='inner')\n",
    "merged_fx_data5 = pd.merge(merged_fx_data4, df6, on=['date'], how='inner')\n",
    "merged_fx_data6 = pd.merge(merged_fx_data5, df7, on=['date'], how='inner')\n",
    "merged_fx_data7 = pd.merge(merged_fx_data6, df8, on=['date'], how='inner')\n",
    "merged_fx_data7.head()"
   ],
   "metadata": {
    "collapsed": false,
    "ExecuteTime": {
     "end_time": "2024-04-04T21:12:22.014162Z",
     "start_time": "2024-04-04T21:12:21.985335Z"
    }
   },
   "id": "e17891150ca1dcc6",
   "execution_count": 5
  },
  {
   "cell_type": "code",
   "outputs": [],
   "source": [
    "merged_fx_data7.to_csv('group_project_training_dataset.csv', index=False, encoding='utf-8', sep=',')"
   ],
   "metadata": {
    "collapsed": false,
    "ExecuteTime": {
     "end_time": "2024-04-04T21:13:04.009422Z",
     "start_time": "2024-04-04T21:13:03.973851Z"
    }
   },
   "id": "96ce052efcdb7a9f",
   "execution_count": 6
  },
  {
   "cell_type": "code",
   "outputs": [],
   "source": [
    "import pandas as pd\n",
    "from datetime import datetime\n",
    "def convert_to_yyyy_mm_dd(date_str):\n",
    "    parsed_date = datetime.strptime(date_str, \"%b %d %Y\")\n",
    "    return parsed_date.strftime(\"%Y-%m-%d\")\n",
    "\n",
    "df = pd.read_csv('/Users/wilfried/Downloads/US Dollar Index Futures Historical Data.csv', encoding='utf-8')\n",
    "df['date'] = df['date'].apply(lambda x: convert_to_yyyy_mm_dd(x))"
   ],
   "metadata": {
    "collapsed": false,
    "ExecuteTime": {
     "end_time": "2024-04-06T03:50:20.855012Z",
     "start_time": "2024-04-06T03:50:20.824169Z"
    }
   },
   "id": "65ef00a5fd2ad86d",
   "execution_count": 2
  },
  {
   "cell_type": "code",
   "outputs": [],
   "source": [
    "del df['Open']\n",
    "del df['High']\n",
    "del df['Low']\n",
    "del df['Vol']\n",
    "del df['Change']"
   ],
   "metadata": {
    "collapsed": false,
    "ExecuteTime": {
     "end_time": "2024-04-06T03:50:22.361556Z",
     "start_time": "2024-04-06T03:50:22.356666Z"
    }
   },
   "id": "9e307ee9970ea939",
   "execution_count": 3
  },
  {
   "cell_type": "code",
   "outputs": [
    {
     "data": {
      "text/plain": "         date  us_dollar_index\n0  2024-04-01          104.764\n1  2024-03-28          104.269\n2  2024-03-27          104.064\n3  2024-03-26          103.991\n4  2024-03-25          103.934",
      "text/html": "<div>\n<style scoped>\n    .dataframe tbody tr th:only-of-type {\n        vertical-align: middle;\n    }\n\n    .dataframe tbody tr th {\n        vertical-align: top;\n    }\n\n    .dataframe thead th {\n        text-align: right;\n    }\n</style>\n<table border=\"1\" class=\"dataframe\">\n  <thead>\n    <tr style=\"text-align: right;\">\n      <th></th>\n      <th>date</th>\n      <th>us_dollar_index</th>\n    </tr>\n  </thead>\n  <tbody>\n    <tr>\n      <th>0</th>\n      <td>2024-04-01</td>\n      <td>104.764</td>\n    </tr>\n    <tr>\n      <th>1</th>\n      <td>2024-03-28</td>\n      <td>104.269</td>\n    </tr>\n    <tr>\n      <th>2</th>\n      <td>2024-03-27</td>\n      <td>104.064</td>\n    </tr>\n    <tr>\n      <th>3</th>\n      <td>2024-03-26</td>\n      <td>103.991</td>\n    </tr>\n    <tr>\n      <th>4</th>\n      <td>2024-03-25</td>\n      <td>103.934</td>\n    </tr>\n  </tbody>\n</table>\n</div>"
     },
     "execution_count": 4,
     "metadata": {},
     "output_type": "execute_result"
    }
   ],
   "source": [
    "df = df.rename(columns={'Price': 'us_dollar_index'})\n",
    "df.reset_index(drop=True, inplace=True)\n",
    "df.head()"
   ],
   "metadata": {
    "collapsed": false,
    "ExecuteTime": {
     "end_time": "2024-04-06T03:50:23.606003Z",
     "start_time": "2024-04-06T03:50:23.586054Z"
    }
   },
   "id": "d54ec1fa1e72ae91",
   "execution_count": 4
  },
  {
   "cell_type": "code",
   "outputs": [],
   "source": [
    "df.to_csv('us_dollar_index_data.csv', index=False, encoding='utf-8', sep=',')"
   ],
   "metadata": {
    "collapsed": false,
    "ExecuteTime": {
     "end_time": "2024-04-06T03:51:10.025297Z",
     "start_time": "2024-04-06T03:51:10.015902Z"
    }
   },
   "id": "5e212e850d9e2189",
   "execution_count": 5
  },
  {
   "cell_type": "code",
   "outputs": [
    {
     "name": "stdout",
     "output_type": "stream",
     "text": [
      "['date', 'us_dollar_index']\n"
     ]
    }
   ],
   "source": [
    "import pandas as pd\n",
    "\n",
    "# Load price data from CSV file\n",
    "df = pd.read_csv('us_dollar_index_data.csv', encoding='utf-8', sep=',')\n",
    "print(df.columns.tolist())\n",
    "# Convert 'Date' column to datetime format\n",
    "df['date'] = pd.to_datetime(df['date'])\n",
    "\n",
    "# Generate a date range from \"2024-01-01\" to \"2024-04-01\"\n",
    "date_range = pd.date_range(start=\"2017-01-01\", end=\"2024-04-01\", freq=\"D\")\n",
    "\n",
    "# Fill missing dates with the last available prices\n",
    "df_filled = df.set_index('date').reindex(date_range, method='ffill').reset_index()\n",
    "\n",
    "# Rename the columns\n",
    "df_filled.columns = ['date', 'us_dollar_index']\n",
    "\n",
    "df_filled['date'] = df_filled['date'].dt.strftime('%Y-%m-%d')\n",
    "\n",
    "# Save the DataFrame to a CSV file\n",
    "df_filled.to_csv('us_dollar_index_data.csv', index=False, encoding='utf-8', sep=',')"
   ],
   "metadata": {
    "collapsed": false,
    "ExecuteTime": {
     "end_time": "2024-04-06T03:52:37.910899Z",
     "start_time": "2024-04-06T03:52:37.883810Z"
    }
   },
   "id": "5ad9b3e498f811c9",
   "execution_count": 6
  },
  {
   "cell_type": "code",
   "outputs": [
    {
     "data": {
      "text/plain": "         date  us_dollar_index  FXAUDCAD  FXCHFCAD  FXCNYCAD  FXEURCAD  \\\n0  2017-01-01          103.146    0.9702    1.3064    0.1935    1.3973   \n1  2017-01-02          103.146    0.9702    1.3064    0.1938    1.3973   \n2  2017-01-03          103.146    0.9702    1.3064    0.1930    1.3973   \n3  2017-01-04          102.649    0.9678    1.3005    0.1920    1.3930   \n4  2017-01-05          101.453    0.9708    1.3083    0.1922    1.4008   \n\n   FXGBPCAD  FXJPYCAD  FXMXNCAD  FXNZDCAD  FXSEKCAD  FXUSDCAD  \\\n0    1.6459   0.01140   0.06439    0.9295    0.1465    1.3334   \n1    1.6459   0.01140   0.06439    0.9295    0.1465    1.3287   \n2    1.6459   0.01140   0.06439    0.9295    0.1465    1.3435   \n3    1.6377   0.01134   0.06242    0.9251    0.1460    1.3315   \n4    1.6400   0.01145   0.06195    0.9285    0.1468    1.3244   \n\n   canada_interest_rate  us_interest_rate  goods_inflation  \\\n0                   0.5              3.75            118.9   \n1                   0.5              3.75            118.9   \n2                   0.5              3.75            118.9   \n3                   0.5              3.75            118.9   \n4                   0.5              3.75            118.9   \n\n   services_inflation      DJIA    SP500  NASDAQCOM  \n0               140.2  19762.60  2238.83    5383.12  \n1               140.2  19762.60  2238.83    5383.12  \n2               140.2  19881.76  2257.83    5429.08  \n3               140.2  19942.16  2270.75    5477.00  \n4               140.2  19899.29  2269.00    5487.94  ",
      "text/html": "<div>\n<style scoped>\n    .dataframe tbody tr th:only-of-type {\n        vertical-align: middle;\n    }\n\n    .dataframe tbody tr th {\n        vertical-align: top;\n    }\n\n    .dataframe thead th {\n        text-align: right;\n    }\n</style>\n<table border=\"1\" class=\"dataframe\">\n  <thead>\n    <tr style=\"text-align: right;\">\n      <th></th>\n      <th>date</th>\n      <th>us_dollar_index</th>\n      <th>FXAUDCAD</th>\n      <th>FXCHFCAD</th>\n      <th>FXCNYCAD</th>\n      <th>FXEURCAD</th>\n      <th>FXGBPCAD</th>\n      <th>FXJPYCAD</th>\n      <th>FXMXNCAD</th>\n      <th>FXNZDCAD</th>\n      <th>FXSEKCAD</th>\n      <th>FXUSDCAD</th>\n      <th>canada_interest_rate</th>\n      <th>us_interest_rate</th>\n      <th>goods_inflation</th>\n      <th>services_inflation</th>\n      <th>DJIA</th>\n      <th>SP500</th>\n      <th>NASDAQCOM</th>\n    </tr>\n  </thead>\n  <tbody>\n    <tr>\n      <th>0</th>\n      <td>2017-01-01</td>\n      <td>103.146</td>\n      <td>0.9702</td>\n      <td>1.3064</td>\n      <td>0.1935</td>\n      <td>1.3973</td>\n      <td>1.6459</td>\n      <td>0.01140</td>\n      <td>0.06439</td>\n      <td>0.9295</td>\n      <td>0.1465</td>\n      <td>1.3334</td>\n      <td>0.5</td>\n      <td>3.75</td>\n      <td>118.9</td>\n      <td>140.2</td>\n      <td>19762.60</td>\n      <td>2238.83</td>\n      <td>5383.12</td>\n    </tr>\n    <tr>\n      <th>1</th>\n      <td>2017-01-02</td>\n      <td>103.146</td>\n      <td>0.9702</td>\n      <td>1.3064</td>\n      <td>0.1938</td>\n      <td>1.3973</td>\n      <td>1.6459</td>\n      <td>0.01140</td>\n      <td>0.06439</td>\n      <td>0.9295</td>\n      <td>0.1465</td>\n      <td>1.3287</td>\n      <td>0.5</td>\n      <td>3.75</td>\n      <td>118.9</td>\n      <td>140.2</td>\n      <td>19762.60</td>\n      <td>2238.83</td>\n      <td>5383.12</td>\n    </tr>\n    <tr>\n      <th>2</th>\n      <td>2017-01-03</td>\n      <td>103.146</td>\n      <td>0.9702</td>\n      <td>1.3064</td>\n      <td>0.1930</td>\n      <td>1.3973</td>\n      <td>1.6459</td>\n      <td>0.01140</td>\n      <td>0.06439</td>\n      <td>0.9295</td>\n      <td>0.1465</td>\n      <td>1.3435</td>\n      <td>0.5</td>\n      <td>3.75</td>\n      <td>118.9</td>\n      <td>140.2</td>\n      <td>19881.76</td>\n      <td>2257.83</td>\n      <td>5429.08</td>\n    </tr>\n    <tr>\n      <th>3</th>\n      <td>2017-01-04</td>\n      <td>102.649</td>\n      <td>0.9678</td>\n      <td>1.3005</td>\n      <td>0.1920</td>\n      <td>1.3930</td>\n      <td>1.6377</td>\n      <td>0.01134</td>\n      <td>0.06242</td>\n      <td>0.9251</td>\n      <td>0.1460</td>\n      <td>1.3315</td>\n      <td>0.5</td>\n      <td>3.75</td>\n      <td>118.9</td>\n      <td>140.2</td>\n      <td>19942.16</td>\n      <td>2270.75</td>\n      <td>5477.00</td>\n    </tr>\n    <tr>\n      <th>4</th>\n      <td>2017-01-05</td>\n      <td>101.453</td>\n      <td>0.9708</td>\n      <td>1.3083</td>\n      <td>0.1922</td>\n      <td>1.4008</td>\n      <td>1.6400</td>\n      <td>0.01145</td>\n      <td>0.06195</td>\n      <td>0.9285</td>\n      <td>0.1468</td>\n      <td>1.3244</td>\n      <td>0.5</td>\n      <td>3.75</td>\n      <td>118.9</td>\n      <td>140.2</td>\n      <td>19899.29</td>\n      <td>2269.00</td>\n      <td>5487.94</td>\n    </tr>\n  </tbody>\n</table>\n</div>"
     },
     "execution_count": 7,
     "metadata": {},
     "output_type": "execute_result"
    }
   ],
   "source": [
    "df = pd.read_csv('us_dollar_index_data.csv', encoding='utf-8', sep=',')\n",
    "df2 = pd.read_csv('group_project_training_dataset.csv', encoding='utf-8', sep=',')\n",
    "merged_fx_data = pd.merge(df, df2, on=['date'], how='inner')\n",
    "merged_fx_data.to_csv('group_project_training_dataset_v2.csv', index=False, encoding='utf-8', sep=',')\n",
    "merged_fx_data.head()"
   ],
   "metadata": {
    "collapsed": false,
    "ExecuteTime": {
     "end_time": "2024-04-06T03:54:25.080047Z",
     "start_time": "2024-04-06T03:54:25.050213Z"
    }
   },
   "id": "2c96dd5384e847b8",
   "execution_count": 7
  }
 ],
 "metadata": {
  "kernelspec": {
   "display_name": "Python 3",
   "language": "python",
   "name": "python3"
  },
  "language_info": {
   "codemirror_mode": {
    "name": "ipython",
    "version": 2
   },
   "file_extension": ".py",
   "mimetype": "text/x-python",
   "name": "python",
   "nbconvert_exporter": "python",
   "pygments_lexer": "ipython2",
   "version": "2.7.6"
  }
 },
 "nbformat": 4,
 "nbformat_minor": 5
}
